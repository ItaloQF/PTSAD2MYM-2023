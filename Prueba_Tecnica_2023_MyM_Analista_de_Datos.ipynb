{
 "cells": [
  {
   "cell_type": "code",
   "execution_count": 1,
   "id": "bdf2e306",
   "metadata": {},
   "outputs": [],
   "source": [
    "## ! pip install PyMySQL\n",
    "## ! pip install ipython-sql\n",
    "## ! pip install mysqlclient"
   ]
  },
  {
   "cell_type": "code",
   "execution_count": 2,
   "id": "c65faab2",
   "metadata": {},
   "outputs": [],
   "source": [
    "import requests\n",
    "from bs4 import BeautifulSoup\n",
    "from lxml import etree\n",
    "import pandas as pd\n",
    "import pymysql"
   ]
  },
  {
   "cell_type": "code",
   "execution_count": 3,
   "id": "29c91e11",
   "metadata": {},
   "outputs": [],
   "source": [
    "## Creamos una variable con el url a trabajar\n",
    "r = requests.get('https://volvorepuestos.com.pe/repuestos-camiones-volvo/fm-fmx/suspension.html')"
   ]
  },
  {
   "cell_type": "code",
   "execution_count": 4,
   "id": "4f51cc6f",
   "metadata": {},
   "outputs": [
    {
     "data": {
      "text/plain": [
       "200"
      ]
     },
     "execution_count": 4,
     "metadata": {},
     "output_type": "execute_result"
    }
   ],
   "source": [
    "## Validamos que tengamos respuesta correcta con la url\n",
    "r.status_code"
   ]
  },
  {
   "cell_type": "code",
   "execution_count": 5,
   "id": "954c9d17",
   "metadata": {},
   "outputs": [],
   "source": [
    "# Creamos un variable soup para realizar las busquedas\n",
    "soup = BeautifulSoup(r.content,'html.parser')"
   ]
  },
  {
   "cell_type": "code",
   "execution_count": 8,
   "id": "e8ea43fd",
   "metadata": {},
   "outputs": [],
   "source": [
    "# Validamos que el contenido este correcto\n",
    "# soup"
   ]
  },
  {
   "cell_type": "code",
   "execution_count": 9,
   "id": "05877015",
   "metadata": {},
   "outputs": [],
   "source": [
    "## Buscamos los elementos principales en la pagina para realizar la mineria de datos\n",
    "\n",
    "## 1.Creamos una variable dom para realizar la busquedas por ruta\n",
    "dom = etree.HTML(str(soup))\n",
    "\n",
    "## 2.Ubicamos el nombre de productos\n",
    "# //ol[@class=\"filterproducts products list items product-items row\"]//li//div[@class=\"product details product-item-details\"]/strong[1]/a[1]/text()\n",
    "nom_producto = dom.xpath('//ol[@class=\"filterproducts products list items product-items row\"]//li//div[@class=\"product details product-item-details\"]/strong[1]/a[1]/text()')\n",
    "\n",
    "# Creamos una variable lista de nombre de productos con su limpieza de datos\n",
    "nom_productos = [i.replace('\\r','').replace('\\n','').strip() for i in nom_producto]\n",
    "\n",
    "## 3.Ubicamos la marca y codigo del producto\n",
    "# marca: //ol[@class=\"filterproducts products list items product-items row\"]//li//div[3]/div[@class=\"marca\"]/p/span[2]/text()\n",
    "# codigo: //ol[@class=\"filterproducts products list items product-items row\"]//li//div[3]/div[@class=\"marca\"]/p/span[3]/text()\n",
    "nom_marca = dom.xpath('//ol[@class=\"filterproducts products list items product-items row\"]//li//div[3]/div[@class=\"marca\"]/p/span[2]/text()')\n",
    "codigo = dom.xpath('//ol[@class=\"filterproducts products list items product-items row\"]//li//div[3]/div[@class=\"marca\"]/p/span[3]/text()')\n",
    "\n",
    "## 4.Ubicamos el precio estimado\n",
    "# //ol[@class=\"filterproducts products list items product-items row\"]//span[@data-price-type=\"finalPrice\"]/span[@class=\"price\"]/text()\n",
    "precio_estimado = dom.xpath('//ol[@class=\"filterproducts products list items product-items row\"]//span[@data-price-type=\"finalPrice\"]/span[@class=\"price\"]/text()')\n",
    "# realizamos limpieza al dato precio estimado\n",
    "precio_estimado = [i.replace('$','').replace(',','').strip() for i in precio_estimado]\n",
    "\n",
    "## 5. Ubicamos el precio base\n",
    "# //ol[@class=\"filterproducts products list items product-items row\"]//span[@data-price-type=\"oldPrice\"]/span[@class=\"price\"]/text()\n",
    "# Para realizar la extraccion de estos precios bases realizaremos un pipe \"|\" con nom_productos\n",
    "precio_base = dom.xpath('//ol[@class=\"filterproducts products list items product-items row\"]//li//div[@class=\"product details product-item-details\"]/strong[1]/a[1]/text() | //ol[@class=\"filterproducts products list items product-items row\"]//span[@data-price-type=\"oldPrice\"]/span[@class=\"price\"]/text()')\n",
    "# realizamos limpieza del dato precio base\n",
    "precio_base = [i.replace('\\r','').replace('\\n','').replace(',','').strip() for i in precio_base]"
   ]
  },
  {
   "cell_type": "code",
   "execution_count": 10,
   "id": "c5aaf33c",
   "metadata": {},
   "outputs": [
    {
     "data": {
      "text/plain": [
       "['Amortiguador Posterior',\n",
       " 'Amortiguador',\n",
       " 'Cojinete de ruedas',\n",
       " 'Cubo (eje trasero)',\n",
       " 'Kit de cojinetes',\n",
       " 'Sensor',\n",
       " 'Juego de cojinete de rodillos',\n",
       " 'Amortiguador suspensión delantera FM12 FM13',\n",
       " 'Cojinete',\n",
       " 'Varilla de articulación',\n",
       " 'Ballesta Delantera',\n",
       " 'Cubo (eje trasero)',\n",
       " 'Juego De Casquillo',\n",
       " 'Servotubo',\n",
       " 'Resorte Neumático',\n",
       " 'Muelle Delantero',\n",
       " 'Muelle Delantero',\n",
       " 'Resorte de Goma',\n",
       " 'Muelle de hojas',\n",
       " 'Resorte Neumático',\n",
       " 'Muelle Posterior',\n",
       " 'Electroválvula',\n",
       " 'Buje de goma',\n",
       " 'Conector']"
      ]
     },
     "execution_count": 10,
     "metadata": {},
     "output_type": "execute_result"
    }
   ],
   "source": [
    "# Validamos la lista de elementos encontrados\n",
    "nom_productos"
   ]
  },
  {
   "cell_type": "code",
   "execution_count": 11,
   "id": "c96cb2a7",
   "metadata": {},
   "outputs": [
    {
     "data": {
      "text/plain": [
       "24"
      ]
     },
     "execution_count": 11,
     "metadata": {},
     "output_type": "execute_result"
    }
   ],
   "source": [
    "# Validamos que sea 24\n",
    "len(nom_productos)"
   ]
  },
  {
   "cell_type": "code",
   "execution_count": 12,
   "id": "87ed7003",
   "metadata": {},
   "outputs": [
    {
     "data": {
      "text/plain": [
       "24"
      ]
     },
     "execution_count": 12,
     "metadata": {},
     "output_type": "execute_result"
    }
   ],
   "source": [
    "# Validamos Cantidad de elementos \"nombre marca\" sea 24\n",
    "len(nom_marca)"
   ]
  },
  {
   "cell_type": "code",
   "execution_count": 13,
   "id": "8b8baf1b",
   "metadata": {},
   "outputs": [
    {
     "data": {
      "text/plain": [
       "24"
      ]
     },
     "execution_count": 13,
     "metadata": {},
     "output_type": "execute_result"
    }
   ],
   "source": [
    "# Validamos Cantidad de elementos \"Codigos\" sea 24\n",
    "len(codigo)"
   ]
  },
  {
   "cell_type": "code",
   "execution_count": 14,
   "id": "943dfc7f",
   "metadata": {},
   "outputs": [
    {
     "data": {
      "text/plain": [
       "24"
      ]
     },
     "execution_count": 14,
     "metadata": {},
     "output_type": "execute_result"
    }
   ],
   "source": [
    "# Validamos Cantidad de elementos \"Precio\" sea 24\n",
    "len(precio_estimado)"
   ]
  },
  {
   "cell_type": "code",
   "execution_count": 15,
   "id": "f274d2d8",
   "metadata": {},
   "outputs": [],
   "source": [
    "# realizamos una iteracion de datos y nos quedamos solamente con los productos con precio base\n",
    "# usaremos el caracter \"$\" para guiarnos.\n",
    "data = precio_base\n",
    "\n",
    "# Crear una nueva lista con los elementos que cumplen el criterio\n",
    "nom_producto_r = [data[i] for i in range(len(data)-1) if data[i+1].startswith('$')]\n",
    "\n",
    "# Crear una nueva lista con los elementos que cumplen el criterio\n",
    "precio_antiguo_r = [data[i] for i in range(len(data)-1) if data[i].startswith('$')]\n",
    "\n",
    "precio_base = [(nom_producto_r, precio_antiguo_r) for nom_producto_r, precio_antiguo_r in zip(nom_producto_r, precio_antiguo_r)]"
   ]
  },
  {
   "cell_type": "code",
   "execution_count": 16,
   "id": "2ffdebce",
   "metadata": {},
   "outputs": [],
   "source": [
    "# limpiamos por ultima vez el campo precio del caracter \"$\"\n",
    "precio_base = [(nombre, precio.replace('$', '')) for nombre, precio in precio_base]"
   ]
  },
  {
   "cell_type": "code",
   "execution_count": 17,
   "id": "4ae5c626",
   "metadata": {},
   "outputs": [
    {
     "data": {
      "text/plain": [
       "[('Cojinete de ruedas', '1052.01'),\n",
       " ('Sensor', '367.48'),\n",
       " ('Juego de cojinete de rodillos', '794.54'),\n",
       " ('Juego De Casquillo', '735.72'),\n",
       " ('Electroválvula', '609.46')]"
      ]
     },
     "execution_count": 17,
     "metadata": {},
     "output_type": "execute_result"
    }
   ],
   "source": [
    "# validamos la nueva lista\n",
    "precio_base"
   ]
  },
  {
   "cell_type": "code",
   "execution_count": null,
   "id": "605f9821",
   "metadata": {},
   "outputs": [],
   "source": []
  }
 ],
 "metadata": {
  "kernelspec": {
   "display_name": "Python 3 (ipykernel)",
   "language": "python",
   "name": "python3"
  },
  "language_info": {
   "codemirror_mode": {
    "name": "ipython",
    "version": 3
   },
   "file_extension": ".py",
   "mimetype": "text/x-python",
   "name": "python",
   "nbconvert_exporter": "python",
   "pygments_lexer": "ipython3",
   "version": "3.9.12"
  }
 },
 "nbformat": 4,
 "nbformat_minor": 5
}
